{
 "cells": [
  {
   "cell_type": "markdown",
   "metadata": {},
   "source": [
    "# CSCN8010 Foundations of Machine Learning Frameworks \n",
    "# Periyanayagi Christina-8938218\n"
   ]
  },
  {
   "cell_type": "markdown",
   "id": "239c7aee",
   "metadata": {},
   "source": [
    "# Lab 8 - A Dot product and a Matrix Multiplication in PyTorch and Tensorflow"
   ]
  },
  {
   "cell_type": "markdown",
   "id": "5ad73a94",
   "metadata": {},
   "source": [
    "## 1. Setup Tensorflow and PyTorch based on the instructions in ./setup/README.md\n"
   ]
  },
  {
   "cell_type": "code",
   "execution_count": 5,
   "id": "3efbc931",
   "metadata": {},
   "outputs": [],
   "source": [
    "import torch\n"
   ]
  },
  {
   "cell_type": "code",
   "execution_count": 1,
   "id": "a73f1f03",
   "metadata": {},
   "outputs": [],
   "source": [
    "import tensorflow as tf"
   ]
  },
  {
   "cell_type": "markdown",
   "id": "85f71f46",
   "metadata": {},
   "source": [
    "## 2. Using PyTorch:"
   ]
  },
  {
   "cell_type": "markdown",
   "id": "fb86b866",
   "metadata": {},
   "source": [
    "### Calculate the dot product between two vectors each of length 3"
   ]
  },
  {
   "cell_type": "code",
   "execution_count": 2,
   "id": "abe21ed6",
   "metadata": {},
   "outputs": [
    {
     "name": "stdout",
     "output_type": "stream",
     "text": [
      "PyTorch Dot Product: 32.0\n"
     ]
    }
   ],
   "source": [
    "# Define vectors\n",
    "vector1_pytorch = torch.tensor([1.0, 2.0, 3.0])\n",
    "vector2_pytorch = torch.tensor([4.0, 5.0, 6.0])\n",
    "\n",
    "# Calculate dot product\n",
    "dot_product_pytorch = torch.dot(vector1_pytorch, vector2_pytorch)\n",
    "\n",
    "# Print results\n",
    "print(\"PyTorch Dot Product:\", dot_product_pytorch.item())"
   ]
  },
  {
   "cell_type": "markdown",
   "id": "0bb20fda",
   "metadata": {},
   "source": [
    "### Calculate the matrix multiplication of two 2-dimensional matrices, each with a size of (2,2)"
   ]
  },
  {
   "cell_type": "code",
   "execution_count": 3,
   "id": "dae5b84a",
   "metadata": {},
   "outputs": [
    {
     "name": "stdout",
     "output_type": "stream",
     "text": [
      "PyTorch Matrix Multiplication:\n",
      " tensor([[19., 22.],\n",
      "        [43., 50.]])\n"
     ]
    }
   ],
   "source": [
    "# Define matrices\n",
    "matrix1_pytorch = torch.tensor([[1.0, 2.0], [3.0, 4.0]])\n",
    "matrix2_pytorch = torch.tensor([[5.0, 6.0], [7.0, 8.0]])\n",
    "\n",
    "# Matrix multiplication\n",
    "matrix_multiply_pytorch = torch.mm(matrix1_pytorch, matrix2_pytorch)\n",
    "\n",
    "# Print results\n",
    "print(\"PyTorch Matrix Multiplication:\\n\", matrix_multiply_pytorch)"
   ]
  },
  {
   "cell_type": "markdown",
   "id": "a62a8761",
   "metadata": {},
   "source": [
    "## 3. Using Tensorflow:"
   ]
  },
  {
   "cell_type": "markdown",
   "id": "197ae6d8",
   "metadata": {},
   "source": [
    "### Calculate the dot product between the same vectors as above (re-define them in Tensorflow)"
   ]
  },
  {
   "cell_type": "code",
   "execution_count": 6,
   "id": "bf1c5aa2",
   "metadata": {},
   "outputs": [
    {
     "name": "stdout",
     "output_type": "stream",
     "text": [
      "TensorFlow Dot Product: 32.0\n"
     ]
    }
   ],
   "source": [
    "# Enable eager execution\n",
    "tf.config.run_functions_eagerly(True)\n",
    "\n",
    "# Define vectors\n",
    "vector1_tf = tf.constant([1.0, 2.0, 3.0])\n",
    "vector2_tf = tf.constant([4.0, 5.0, 6.0])\n",
    "\n",
    "# Calculate dot product\n",
    "dot_product_tf = tf.reduce_sum(tf.multiply(vector1_tf, vector2_tf))\n",
    "\n",
    "# Print results\n",
    "print(\"TensorFlow Dot Product:\", dot_product_tf.numpy())\n"
   ]
  },
  {
   "cell_type": "markdown",
   "id": "1a9fbe04",
   "metadata": {},
   "source": [
    "### Calculate the matrix multiplication of the same matrics as above (re-define them in Tensorflow) "
   ]
  },
  {
   "cell_type": "code",
   "execution_count": 7,
   "id": "321dec64",
   "metadata": {},
   "outputs": [
    {
     "name": "stdout",
     "output_type": "stream",
     "text": [
      "TensorFlow Matrix Multiplication:\n",
      " [[19. 22.]\n",
      " [43. 50.]]\n"
     ]
    }
   ],
   "source": [
    "# Define matrices\n",
    "matrix1_tf = tf.constant([[1.0, 2.0], [3.0, 4.0]])\n",
    "matrix2_tf = tf.constant([[5.0, 6.0], [7.0, 8.0]])\n",
    "\n",
    "# Matrix multiplication\n",
    "matrix_multiply_tf = tf.matmul(matrix1_tf, matrix2_tf)\n",
    "\n",
    "# Print results\n",
    "print(\"TensorFlow Matrix Multiplication:\\n\", matrix_multiply_tf.numpy())"
   ]
  }
 ],
 "metadata": {
  "kernelspec": {
   "display_name": "Python 3 (ipykernel)",
   "language": "python",
   "name": "python3"
  },
  "language_info": {
   "codemirror_mode": {
    "name": "ipython",
    "version": 3
   },
   "file_extension": ".py",
   "mimetype": "text/x-python",
   "name": "python",
   "nbconvert_exporter": "python",
   "pygments_lexer": "ipython3",
   "version": "3.10.9"
  }
 },
 "nbformat": 4,
 "nbformat_minor": 5
}
