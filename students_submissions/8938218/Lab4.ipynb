{
 "cells": [
  {
   "cell_type": "markdown",
   "id": "cc871695",
   "metadata": {},
   "source": [
    "# Practical Lab 4 - Multivariate Linear and Polynomial Regression, and Evaluation using R-Squared, MAPE and MAE."
   ]
  },
  {
   "cell_type": "markdown",
   "id": "e01f21eb",
   "metadata": {},
   "source": [
    "## In this lab, we will run multivariate linear model and two polynomial regression models, and evaluate them using R-squared, Mean Absolute Percentage Error (MAPE) and Mean Absolute Error (MAE) metrices. The dataset will be Scikit-Learn's Diabetes dataset - the same one used in Practical Lab 3."
   ]
  },
  {
   "cell_type": "markdown",
   "id": "387c6936",
   "metadata": {},
   "source": [
    "### 1. Get the data, and run a train-validation-test split. Description of each column can be found in sklearn documentation. Look at the documentation for the load_diabetes method to know what are as_frame and scaled arguments are for."
   ]
  },
  {
   "cell_type": "code",
   "execution_count": 1,
   "id": "631b128c",
   "metadata": {},
   "outputs": [],
   "source": [
    "import numpy as np\n",
    "import pandas as pd\n",
    "from sklearn.datasets import load_diabetes\n",
    "from sklearn.model_selection import train_test_split\n",
    "from sklearn.linear_model import LinearRegression\n",
    "from sklearn.preprocessing import PolynomialFeatures\n",
    "from sklearn.metrics import r2_score, mean_absolute_error"
   ]
  },
  {
   "cell_type": "markdown",
   "id": "8bab0358",
   "metadata": {},
   "source": [
    "Load Data"
   ]
  },
  {
   "cell_type": "code",
   "execution_count": 2,
   "id": "f14ec762",
   "metadata": {},
   "outputs": [],
   "source": [
    "data = load_diabetes(as_frame=True, scaled=False)"
   ]
  },
  {
   "cell_type": "markdown",
   "id": "8c5ad445",
   "metadata": {},
   "source": [
    "Data Splitting"
   ]
  },
  {
   "cell_type": "code",
   "execution_count": 3,
   "id": "c1c797d2",
   "metadata": {},
   "outputs": [],
   "source": [
    "X, y = data.data, data.target\n",
    "X_train, X_temp, y_train, y_temp = train_test_split(X, y, test_size=0.3, random_state=42)\n",
    "X_val, X_test, y_val, y_test = train_test_split(X_temp, y_temp, test_size=0.5, random_state=42)"
   ]
  },
  {
   "cell_type": "markdown",
   "id": "af54cc64",
   "metadata": {},
   "source": [
    "### 2 . Run a multivariate linear regression on all variables"
   ]
  },
  {
   "cell_type": "code",
   "execution_count": 4,
   "id": "d9439b4a",
   "metadata": {},
   "outputs": [],
   "source": [
    "linear_regression = LinearRegression()\n",
    "linear_regression.fit(X_train, y_train)\n",
    "y_val_pred = linear_regression.predict(X_val)"
   ]
  },
  {
   "cell_type": "markdown",
   "id": "3fbd2a7b",
   "metadata": {},
   "source": [
    "### 3 . Run a polynomial regression of the 2nd degree on the BMI feature alone"
   ]
  },
  {
   "cell_type": "code",
   "execution_count": 5,
   "id": "813b14d8",
   "metadata": {},
   "outputs": [],
   "source": [
    "poly = PolynomialFeatures(degree=2, include_bias=False)\n",
    "X_train_poly_bmi = poly.fit_transform(X_train['bmi'].values.reshape(-1, 1))# Select the BMI feature\n",
    "X_val_poly_bmi = poly.transform(X_val['bmi'].values.reshape(-1, 1))\n",
    "poly_regression_bmi = LinearRegression()\n",
    "poly_regression_bmi.fit(X_train_poly_bmi, y_train)\n",
    "y_val_poly_bmi_pred = poly_regression_bmi.predict(X_val_poly_bmi)"
   ]
  },
  {
   "cell_type": "markdown",
   "id": "00c2ddc9",
   "metadata": {},
   "source": [
    "### 4 . Run a multivariate polynomial regression of the 2nd degree on all variables"
   ]
  },
  {
   "cell_type": "code",
   "execution_count": 6,
   "id": "cdd01119",
   "metadata": {},
   "outputs": [],
   "source": [
    "from sklearn.preprocessing import PolynomialFeatures\n",
    "poly = PolynomialFeatures(degree=2, include_bias=False)\n",
    "X_train_poly = poly.fit_transform(X_train)\n",
    "X_val_poly = poly.transform(X_val)\n",
    "poly_regression = LinearRegression()\n",
    "poly_regression.fit(X_train_poly, y_train)\n",
    "y_val_poly_pred = poly_regression.predict(X_val_poly)\n",
    "\n"
   ]
  },
  {
   "cell_type": "markdown",
   "id": "84d8db19",
   "metadata": {},
   "source": [
    "### 5 . Compare the three models by looking at R-squared, MAPE and MAE. Explain what the values mean for a non-expert and add your insight about the values of each model. Note: You can add any further comparisons and code (this is not necessary for a perfect score, but will be reviewed and evaluated) (2 points)"
   ]
  },
  {
   "cell_type": "code",
   "execution_count": 7,
   "id": "dc0059d1",
   "metadata": {},
   "outputs": [],
   "source": [
    "r2_linear = r2_score(y_val, y_val_pred)\n",
    "mae_linear = mean_absolute_error(y_val, y_val_pred)\n",
    "mape_linear = np.mean(np.abs((y_val - y_val_pred) / y_val)) * 100\n",
    "\n",
    "r2_poly_bmi = r2_score(y_val, y_val_poly_bmi_pred)\n",
    "mae_poly_bmi = mean_absolute_error(y_val, y_val_poly_bmi_pred)\n",
    "mape_poly_bmi = np.mean(np.abs((y_val - y_val_poly_bmi_pred) / y_val)) * 100\n",
    "\n",
    "r2_poly = r2_score(y_val, y_val_poly_pred)\n",
    "mae_poly = mean_absolute_error(y_val, y_val_poly_pred)\n",
    "mape_poly = np.mean(np.abs((y_val - y_val_poly_pred) / y_val)) * 100"
   ]
  },
  {
   "cell_type": "code",
   "execution_count": 8,
   "id": "068e24c0",
   "metadata": {},
   "outputs": [
    {
     "name": "stdout",
     "output_type": "stream",
     "text": [
      "Multivariate Linear Regression:\n",
      "R-squared: 0.511\n",
      "MAE: 38.217\n",
      "MAPE: 34.616%\n",
      "Number of Parameters: 10\n",
      "\n",
      "Polynomial Regression on BMI:\n",
      "R-squared: 0.296\n",
      "MAE: 48.273\n",
      "MAPE: 41.902%\n",
      "Number of Parameters: 2\n",
      "\n",
      "Multivariate Polynomial Regression:\n",
      "R-squared: 0.367\n",
      "MAE: 42.471\n",
      "MAPE: 38.090%\n",
      "Number of Parameters: 65\n"
     ]
    }
   ],
   "source": [
    "num_params_linear = len(linear_regression.coef_)\n",
    "num_params_poly_bmi = len(poly_regression_bmi.coef_)\n",
    "num_params_poly = len(poly_regression.coef_)\n",
    "print(\"Multivariate Linear Regression:\")\n",
    "print(f\"R-squared: {r2_linear:.3f}\")\n",
    "print(f\"MAE: {mae_linear:.3f}\")\n",
    "print(f\"MAPE: {mape_linear:.3f}%\")\n",
    "print(f\"Number of Parameters: {num_params_linear}\")\n",
    "\n",
    "print(\"\\nPolynomial Regression on BMI:\")\n",
    "print(f\"R-squared: {r2_poly_bmi:.3f}\")\n",
    "print(f\"MAE: {mae_poly_bmi:.3f}\")\n",
    "print(f\"MAPE: {mape_poly_bmi:.3f}%\")\n",
    "print(f\"Number of Parameters: {num_params_poly_bmi}\")\n",
    "\n",
    "print(\"\\nMultivariate Polynomial Regression:\")\n",
    "print(f\"R-squared: {r2_poly:.3f}\")\n",
    "print(f\"MAE: {mae_poly:.3f}\")\n",
    "print(f\"MAPE: {mape_poly:.3f}%\")\n",
    "print(f\"Number of Parameters: {num_params_poly}\")"
   ]
  },
  {
   "cell_type": "markdown",
   "id": "bdc01611",
   "metadata": {},
   "source": [
    "## 6 . Please answer the following questions:"
   ]
  },
  {
   "cell_type": "markdown",
   "id": "c578b756",
   "metadata": {},
   "source": [
    "### i . How many parameters are we fitting for each of the three models? Explain these values. Hint: for explaining the parameters of the polynomial regression, you can use poly.get_feature_names_out()"
   ]
  },
  {
   "cell_type": "markdown",
   "id": "8485d631",
   "metadata": {},
   "source": [
    "Multivariate Linear Regression: 10 parameters, one for each feature in the dataset.\n",
    "Polynomial Regression on BMI: 3 parameters, representing the coefficients of the polynomial equation.\n",
    "Multivariate Polynomial Regression: A larger number of parameters due to interactions and quadratic terms; the exact count can be determined using poly.get_feature_names_out()."
   ]
  },
  {
   "cell_type": "markdown",
   "id": "5ccc2b41",
   "metadata": {},
   "source": [
    "### ii . Which model would you choose for deployment, and why?"
   ]
  },
  {
   "cell_type": "markdown",
   "id": "d608ace1",
   "metadata": {},
   "source": [
    "The Multivariate Linear Regression model should be strongly considered for deployment. It outperforms the other models with the highest R-squared value, lower mean absolute error (MAE), and a lower mean absolute percentage error (MAPE). This indicates its superior predictive accuracy and fit to the data. While it has more parameters, it provides a substantial gain in performance, making it the most compelling choice for deployment when predictive power is a top priority."
   ]
  }
 ],
 "metadata": {
  "kernelspec": {
   "display_name": "Python 3 (ipykernel)",
   "language": "python",
   "name": "python3"
  },
  "language_info": {
   "codemirror_mode": {
    "name": "ipython",
    "version": 3
   },
   "file_extension": ".py",
   "mimetype": "text/x-python",
   "name": "python",
   "nbconvert_exporter": "python",
   "pygments_lexer": "ipython3",
   "version": "3.10.9"
  }
 },
 "nbformat": 4,
 "nbformat_minor": 5
}
