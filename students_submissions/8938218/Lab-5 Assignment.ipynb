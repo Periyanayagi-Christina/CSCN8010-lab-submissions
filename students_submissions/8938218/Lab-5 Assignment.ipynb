{
 "cells": [
  {
   "cell_type": "markdown",
   "id": "cfe192d8",
   "metadata": {},
   "source": [
    "# Periyanayagi Christina - 8938218"
   ]
  },
  {
   "cell_type": "markdown",
   "id": "8b1439c2",
   "metadata": {},
   "source": [
    "# Lab 5 - Cross-Validation for Model Selection"
   ]
  },
  {
   "cell_type": "markdown",
   "id": "61d63816",
   "metadata": {},
   "source": [
    "### Utilize the diabetes dataset from lab 4. Perform cross-validation on nine polynomial models, ranging from degree 0 to 8."
   ]
  },
  {
   "cell_type": "code",
   "execution_count": 11,
   "id": "b4d3efbf",
   "metadata": {},
   "outputs": [],
   "source": [
    "import numpy as np\n",
    "import pandas as pd\n",
    "from sklearn.datasets import load_diabetes\n",
    "from sklearn.model_selection import cross_val_score\n",
    "from sklearn.linear_model import LinearRegression\n",
    "from sklearn.preprocessing import PolynomialFeatures\n",
    "from sklearn.metrics import r2_score, mean_absolute_error, mean_absolute_percentage_error\n",
    "from sklearn.model_selection import train_test_split\n",
    "from sklearn.pipeline import make_pipeline\n"
   ]
  },
  {
   "cell_type": "markdown",
   "id": "bed9ac82",
   "metadata": {},
   "source": [
    "### Loading the Diabetes dataset"
   ]
  },
  {
   "cell_type": "code",
   "execution_count": 12,
   "id": "01fddeca",
   "metadata": {},
   "outputs": [],
   "source": [
    "diabetesDF = load_diabetes()\n"
   ]
  },
  {
   "cell_type": "markdown",
   "id": "7e2cf628",
   "metadata": {},
   "source": [
    "### Splitting the data into training sets and testing sets"
   ]
  },
  {
   "cell_type": "code",
   "execution_count": 13,
   "id": "af81aa87",
   "metadata": {},
   "outputs": [],
   "source": [
    "X, y = diabetesDF.data, diabetesDF.target\n",
    "X_train, X_test, y_train, y_test = train_test_split(X, y, test_size=0.2, random_state=42)"
   ]
  },
  {
   "cell_type": "markdown",
   "id": "9572daef",
   "metadata": {},
   "source": [
    "###  Perform cross-validation on nine polynomial models, ranging from degree 0 to 8"
   ]
  },
  {
   "cell_type": "code",
   "execution_count": 14,
   "id": "447666bc",
   "metadata": {},
   "outputs": [],
   "source": [
    "degrees = range(9)\n",
    "results = []\n",
    "\n",
    "for degree in degrees:\n",
    "    # Create a polynomial regression model using make_pipeline\n",
    "    model = make_pipeline(PolynomialFeatures(degree=degree), LinearRegression())\n",
    "    model.fit(X_train, y_train)\n",
    "    y_pred = model.predict(X_test)\n",
    "    \n",
    "    # Calculate the R-squared score\n",
    "    r2 = r2_score(y_test, y_pred)\n",
    "    \n",
    "    # Calculate the Mean Absolute Error (MAE)\n",
    "    mae = mean_absolute_error(y_test, y_pred)\n",
    "    \n",
    "    # Calculate the Mean Absolute Percentage Error (MAPE)\n",
    "    mape = mean_absolute_percentage_error(y_test, y_pred) \n",
    "    \n",
    "    results.append((degree, r2, mae, mape))"
   ]
  },
  {
   "cell_type": "markdown",
   "id": "68f4dc50",
   "metadata": {},
   "source": [
    "### Creating Dataframe to store the result"
   ]
  },
  {
   "cell_type": "code",
   "execution_count": 16,
   "id": "911ac1db",
   "metadata": {},
   "outputs": [
    {
     "name": "stdout",
     "output_type": "stream",
     "text": [
      "   Model Degree  R-Squared         MAE      MAPE\n",
      "0             0  -0.011963   64.006461  0.627918\n",
      "1             1   0.452603   42.794095  0.374998\n",
      "2             2   0.415640   43.581693  0.382857\n",
      "3             3 -15.733467  178.966292  1.634635\n",
      "4             4 -26.728083  261.667144  2.300991\n",
      "5             5 -25.992920  255.968358  2.270202\n",
      "6             6 -25.975743  255.908618  2.269658\n",
      "7             7 -25.975483  255.906857  2.269649\n",
      "8             8 -25.975483  255.906885  2.269649\n"
     ]
    }
   ],
   "source": [
    "results_df = pd.DataFrame(results, columns=['Model Degree', 'R-Squared', 'MAE', 'MAPE'])\n",
    "print(results_df)"
   ]
  },
  {
   "cell_type": "markdown",
   "id": "ee3df489",
   "metadata": {},
   "source": [
    "### Calculate the mean and standard deviation of R-Squared, MAE, and MAPE"
   ]
  },
  {
   "cell_type": "code",
   "execution_count": 17,
   "id": "fdc3aeae",
   "metadata": {},
   "outputs": [
    {
     "name": "stdout",
     "output_type": "stream",
     "text": [
      "Mean R-Squared: -16.169433276824602, Standard Deviation R-Squared: 12.060392260551627\n",
      "Mean MAE: 179.41182245848267, Standard Deviation MAE: 94.64225556808549\n",
      "Mean MAPE: 1.6000618397239887, Standard Deviation MAPE: 0.830934520362114\n"
     ]
    }
   ],
   "source": [
    "mean_r2 = np.mean(results_df['R-Squared'])\n",
    "std_r2 = np.std(results_df['R-Squared'])\n",
    "\n",
    "mean_mae = np.mean(results_df['MAE'])\n",
    "std_mae = np.std(results_df['MAE'])\n",
    "\n",
    "mean_mape = np.mean(results_df['MAPE'])\n",
    "std_mape = np.std(results_df['MAPE'])\n",
    "\n",
    "print(f\"Mean R-Squared: {mean_r2}, Standard Deviation R-Squared: {std_r2}\") #print the mean for R-Squared\n",
    "print(f\"Mean MAE: {mean_mae}, Standard Deviation MAE: {std_mae}\") #print the mean for MAE\n",
    "print(f\"Mean MAPE: {mean_mape}, Standard Deviation MAPE: {std_mape}\") #print the mean for MAPE\n"
   ]
  },
  {
   "cell_type": "code",
   "execution_count": 18,
   "id": "e07d8388",
   "metadata": {},
   "outputs": [
    {
     "name": "stdout",
     "output_type": "stream",
     "text": [
      "Best Model based on R-Squared:\n",
      "   Model Degree  R-Squared        MAE      MAPE\n",
      "1             1   0.452603  42.794095  0.374998\n",
      "\n",
      "Best Model based on MAE:\n",
      "   Model Degree  R-Squared        MAE      MAPE\n",
      "1             1   0.452603  42.794095  0.374998\n",
      "\n",
      "Best Model based on MAPE:\n",
      "   Model Degree  R-Squared        MAE      MAPE\n",
      "1             1   0.452603  42.794095  0.374998\n"
     ]
    }
   ],
   "source": [
    "best_r2_model = results_df[results_df['R-Squared'] == results_df['R-Squared'].max()]# Finding the model with the highest R-Squared\n",
    "\n",
    "best_mae_model = results_df[results_df['MAE'] == results_df['MAE'].min()]# Find the model with the lowest MAE\n",
    "\n",
    "best_mape_model = results_df[results_df['MAPE'] == results_df['MAPE'].min()]# Find the model with the lowest MAPE\n",
    "print(\"Best Model based on R-Squared:\")\n",
    "print(best_r2_model)\n",
    "print(\"\\nBest Model based on MAE:\")\n",
    "print(best_mae_model)\n",
    "print(\"\\nBest Model based on MAPE:\")\n",
    "print(best_mape_model)\n"
   ]
  },
  {
   "cell_type": "markdown",
   "id": "c6de667a",
   "metadata": {},
   "source": [
    "### Identification of the Best Model: Identify the model that exhibits the highest performance based on the R-Squared, MAE and MAPE metrics. Provide an explanation for choosing this specific model. "
   ]
  },
  {
   "cell_type": "markdown",
   "id": "0c9ad5ec",
   "metadata": {},
   "source": [
    "Considering the R-Squared, MAE, and MAPE metrics, it's evident that the model with degree 1 performs the best. The reason for choosing the specific model is in R-Sqaured the degree 1 model has the highest R-squared value, indicating its ability to explain a significant portion of the variance in the data. This suggests a strong fit to the data also in MAE and MAPE the degree 1 model exhibits the lowest Mean Absolute Error (MAE) and Mean Absolute Percentage Error (MAPE). \n",
    "Therefore this signifies the model's superior predictive accuracy, as it has the smallest average absolute difference between predicted and actual values."
   ]
  },
  {
   "cell_type": "markdown",
   "id": "6337303e",
   "metadata": {},
   "source": [
    "### Additional analysis and interpretation of the models' performances. You may explore further insights beyond the required metrics. The analysis should provide at least one relevant insight about the choice of the best model, or about characteristics of the chosen one (for example - an analysis of in which instances does it fail)"
   ]
  },
  {
   "cell_type": "markdown",
   "id": "1f31451c",
   "metadata": {},
   "source": [
    "Beyond the required metrics, a closer examination of the models performance provides valuable insights:\n",
    "For higher-degree models (degrees 3 to 8), the R-Squared values are significantly negative.\n",
    "This indicates that these models perform poorly and may overfit to the training data. They are overly complex, capturing noise in the data.\n",
    "In practical terms, this suggests that a higher-degree polynomial model may not be suitable for this dataset. \n",
    "It tends to make predictions that deviate substantially from the actual values, indicating a lack of generalization to unseen data.\n",
    "In conclusion, the degree 1 model (a quadratic polynomial) is the best choice for making predictions. \n",
    "It demonstrates a strong balance between model complexity and predictive accuracy. However, as with any model selection, other factors such as interpretability and computational efficiency should be considered. For further analysis, it may be worthwhile to explore advanced techniques like regularized regression to fine-tune the model's performance.\n",
    "\n",
    "\n",
    "\n",
    "\n"
   ]
  },
  {
   "cell_type": "code",
   "execution_count": null,
   "id": "21c7b86e",
   "metadata": {},
   "outputs": [],
   "source": []
  }
 ],
 "metadata": {
  "kernelspec": {
   "display_name": "Python 3 (ipykernel)",
   "language": "python",
   "name": "python3"
  },
  "language_info": {
   "codemirror_mode": {
    "name": "ipython",
    "version": 3
   },
   "file_extension": ".py",
   "mimetype": "text/x-python",
   "name": "python",
   "nbconvert_exporter": "python",
   "pygments_lexer": "ipython3",
   "version": "3.10.9"
  }
 },
 "nbformat": 4,
 "nbformat_minor": 5
}
